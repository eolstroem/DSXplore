{
 "cells": [
  {
   "cell_type": "markdown",
   "metadata": {},
   "source": [
    "# EXAMPLES AND NOTES FOR JUPYTER NOTEBOOK MARKDOWN LANGUAGE\n",
    "<a id='the_top'></a>"
   ]
  },
  {
   "cell_type": "markdown",
   "metadata": {},
   "source": [
    "## HEADING 2"
   ]
  },
  {
   "cell_type": "markdown",
   "metadata": {},
   "source": [
    "### HEADING 3"
   ]
  },
  {
   "cell_type": "markdown",
   "metadata": {},
   "source": [
    "#### BODY"
   ]
  },
  {
   "cell_type": "markdown",
   "metadata": {},
   "source": [
    "NORMAL"
   ]
  },
  {
   "cell_type": "markdown",
   "metadata": {},
   "source": [
    "### **LISTS**\n",
    "\n",
    "MAKE A LIST LIKE THIS: \n",
    "* ITEM ONE (NOTE THE SPACE AFTER THE ASTERISK)\n",
    "* ITEM TWO (NOTE THE SYMBOL BECOMES A CIRCLE)\n",
    "  * SUB BULLET 1 (NOTE THE SUB-BULLET IS A SQUARE)\n",
    "  * SUB BULLET 2 \n",
    "    * SUB BULLET 3 (THE SUB SUB BULLET IS AN OPEN CIRCLE)"
   ]
  },
  {
   "cell_type": "markdown",
   "metadata": {},
   "source": [
    "### **NUMBER LISTS:**\n",
    "1. ITEM 1\n",
    "2. ITEM 2\n",
    "    1. SUB ITEM ( THE 1. IN THE CODE BECOMES AN A.)\n",
    "    2. SUB ITEM\n",
    "        1. SUB SUB ITEM (1 BECOMES AN a.)\n",
    "        "
   ]
  },
  {
   "cell_type": "markdown",
   "metadata": {},
   "source": [
    "### **Hyper Links**\n",
    "\n",
    "Make hyper links like this '''[Link text] (http://somesite.com)'''\n",
    "\n",
    "For example: [Google it](http://www.google.com)"
   ]
  },
  {
   "cell_type": "markdown",
   "metadata": {},
   "source": [
    "#### ***How to Link to locations inside the document. Aka - a Table of Contents***"
   ]
  },
  {
   "cell_type": "markdown",
   "metadata": {},
   "source": [
    "* Put an html anchor at the target location:\n",
    "    * ```<a id=\"my_target_name\"></a>```\n",
    "* Put the link to the target anywhere else on the notebook: \n",
    "    * ```[Link text](#my_target_name)```\n",
    "* For example [here is a link to the top of this page](#the_top)\n",
    "   "
   ]
  },
  {
   "cell_type": "markdown",
   "metadata": {},
   "source": [
    "### **BOLD, ITALIC, COLORED TEXT**"
   ]
  },
  {
   "cell_type": "markdown",
   "metadata": {},
   "source": [
    "**COLORED** TEXT:\n",
    "* FOR EXAMPLE: ```<FONT COLOR='GREEN'>THIS IS COLORED GREEN</FONT>```\n",
    "* FOR EXAMPLE: <FONT COLOR='GREEN'>THIS IS COLORED GREEN</FONT>\n",
    "* FOR EXAMPLE: <FONT COLOR='RED'>THIS IS COLORED RED</FONT>\n",
    "* FOR EXAMPLE: <FONT COLOR='PINK'>THIS IS COLORED PINK</FONT>\n",
    "\n",
    "*ITALICIZED* AND **BOLD** TEXT \n",
    "* FOR EXAMPLE: *THIS IS ITALIC*\n",
    "* FOR EXAMPLE: **THIS IS BOLD**\n",
    "* FOR EXAMPLE: ***THIS IS BOLD AND ITALIC***\n",
    "\n",
    "<U>UNDERLINED</U> TEXT\n",
    "* FOR EXAMPLE: <U>THIS WILL BE UNDERLINED</U>\n",
    "\n"
   ]
  },
  {
   "cell_type": "markdown",
   "metadata": {},
   "source": [
    "### **FORMAT CODE**\n",
    "TO WRITE CODE SNIPETS, YOU CAN ENCLOSE THEM WITH TRIPLE BACK-QUOTES\n",
    "* FOR EXAMPLE: ```THIS IS CODE```\n",
    "\n"
   ]
  },
  {
   "cell_type": "markdown",
   "metadata": {},
   "source": [
    "### **BLOCKQUOTES**\n",
    "    \n",
    ">THIS TEXT WILL BE A QUOTE.     \n",
    ">\n",
    ">USE A BLANK LINE WITH A ```>``` TO ADD ANOTHER LINE. "
   ]
  },
  {
   "cell_type": "markdown",
   "metadata": {},
   "source": [
    "### **TABLES**\n",
    "\n",
    "| LEFT-ALIGHTED | CENTER-ALIGNED | RIGHT-ALIGNED |\n",
    "|:--------------|:--------------:|--------------:|\n",
    "| PRESSURE      | P              | (PA)          |\n",
    "| TEMPERATURE   | T              | (K)           |\n",
    "| VELOCITY       | V              | (M^3)         | "
   ]
  },
  {
   "cell_type": "markdown",
   "metadata": {},
   "source": [
    "### **IMAGES**\n",
    "\n",
    "IMAGES CAN BE INSERTED WITH THIS ```![alt text](my_image.png```)\n",
    "\n",
    "BUT IN JUPYTER, HTML IS MUCH MORE FLEXIBLE ```img src=my_image.png width=300>```\n",
    "<img src=http://ignite.byu.edu/images/mpi_strikes_back.png width=300>\n",
    "* You can include local pictures, or picture on a website. \n",
    "    * This is convenient for sharing your notebooks. "
   ]
  }
 ],
 "metadata": {
  "kernelspec": {
   "display_name": "Python",
   "language": "python",
   "name": "conda-env-python-py"
  },
  "language_info": {
   "codemirror_mode": {
    "name": "ipython",
    "version": 3
   },
   "file_extension": ".py",
   "mimetype": "text/x-python",
   "name": "python",
   "nbconvert_exporter": "python",
   "pygments_lexer": "ipython3",
   "version": "3.6.11"
  }
 },
 "nbformat": 4,
 "nbformat_minor": 4
}
